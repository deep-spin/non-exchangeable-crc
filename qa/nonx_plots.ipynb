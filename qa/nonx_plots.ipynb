{
 "cells": [
  {
   "cell_type": "code",
   "execution_count": null,
   "metadata": {},
   "outputs": [],
   "source": [
    "import numpy as np\n",
    "import matplotlib.pyplot as plt\n",
    "import seaborn as sns"
   ]
  },
  {
   "cell_type": "code",
   "execution_count": null,
   "metadata": {},
   "outputs": [],
   "source": [
    "# load arrays\n",
    "risk_iid = np.load(\"results/1000_0.3_qa_risk.npy\")\n",
    "size_iid = np.load(\"results/1000_0.3_qa_size.pdf.npy\")\n",
    "risk_nonx = np.load(\"results/1000_0.3_qa_nonX_risk.npy\")\n",
    "size_nonx = np.load(\"results/1000_0.3_qa_nonX_size.pdf.npy\")\n",
    "\n",
    "alpha = 0.3\n",
    "\n",
    "# seaborn style\n",
    "sns.set(style=\"whitegrid\")\n",
    "pastel_palette = sns.color_palette(\"deep\")\n",
    "font_size=20\n",
    "\n",
    "# create figure with two subplots side by side\n",
    "fig, axes = plt.subplots(1, 2, figsize=(15, 4), sharey=True)\n",
    "\n",
    "# first subplot\n",
    "sns.histplot(size_iid, bins=15, kde=False, label=\"CRC\", color=pastel_palette[1], alpha=0.7, ax=axes[0])\n",
    "sns.histplot(size_nonx, bins=15, kde=False, label=\"Non-X CRC\", color=pastel_palette[2], alpha=0.7, ax=axes[0])\n",
    "axes[0].set_xlabel(\"set size\", fontsize=font_size)\n",
    "axes[0].set_ylabel(\"count\", fontsize=font_size)\n",
    "axes[0].tick_params(axis='x', labelsize=16)\n",
    "axes[0].tick_params(axis='y', labelsize=16)\n",
    "\n",
    "# second subplot\n",
    "sns.histplot(risk_iid, bins=15, kde=False, label=\"CRC\", color=pastel_palette[1], alpha=0.6, ax=axes[1])\n",
    "sns.histplot(risk_nonx, bins=15, kde=False, label=\"Non-X CRC\", color=pastel_palette[2], alpha=0.6, ax=axes[1])\n",
    "axes[1].set_xlabel(\"risk\", fontsize=font_size)\n",
    "axes[1].axvline(x=alpha, c=\"black\", linestyle=\"--\", alpha=1.0)\n",
    "axes[1].tick_params(axis='x', labelsize=16)\n",
    "axes[1].tick_params(axis='y', labelsize=16)\n",
    "handles, labels = axes[0].get_legend_handles_labels()\n",
    "\n",
    "fig.legend(handles, labels, loc='lower center', bbox_to_anchor=(0.5, -0.1), ncol=2, fontsize=font_size)\n",
    "\n",
    "plt.tight_layout()\n",
    "\n",
    "plt.savefig('results/plots-qa', dpi=400, bbox_inches='tight')"
   ]
  }
 ],
 "metadata": {
  "language_info": {
   "name": "python"
  },
  "orig_nbformat": 4
 },
 "nbformat": 4,
 "nbformat_minor": 2
}
